{
 "cells": [
  {
   "cell_type": "markdown",
   "metadata": {},
   "source": [
    "# Playing around with Jupyter Notebooks\n",
    "(I have no idea what I'm doing)\n",
    "\n",
    "### Part 1:\n",
    "Loading the csv file\n"
   ]
  },
  {
   "cell_type": "code",
   "execution_count": 1,
   "metadata": {
    "scrolled": true
   },
   "outputs": [
    {
     "name": "stdout",
     "output_type": "stream",
     "text": [
      "Count: 64 entries\n"
     ]
    }
   ],
   "source": [
    "import csv\n",
    "\n",
    "data_file = open('sleep.csv')\n",
    "\n",
    "reader = csv.reader(data_file)\n",
    "rows = []\n",
    "\n",
    "for row in reader:\n",
    "    #print(row)\n",
    "    rows.append(row)\n",
    "\n",
    "# The number of entries = number of rows, minus the header\n",
    "count = len(rows) - 1\n",
    "print(\"Count: \" + str(count) + \" entries\")"
   ]
  },
  {
   "cell_type": "markdown",
   "metadata": {},
   "source": [
    "### Part 2:\n",
    "Seeing if numpy works\n",
    "\n",
    "(The hardest part was actually converting times)"
   ]
  },
  {
   "cell_type": "code",
   "execution_count": 2,
   "metadata": {},
   "outputs": [
    {
     "name": "stdout",
     "output_type": "stream",
     "text": [
      "26737 generic time units\n",
      "7:25:37\n"
     ]
    }
   ],
   "source": [
    "import datetime\n",
    "import numpy\n",
    "\n",
    "# Lets just analyze the times\n",
    "\n",
    "np_table = numpy.array(rows[1:])\n",
    "# print(np_table)\n",
    "\n",
    "# Time conversion function\n",
    "def convert_time(input_str):\n",
    "    h, m = input_str.split(\":\")\n",
    "    return int(datetime.timedelta(hours=int(h),minutes=int(m)).total_seconds())\n",
    "\n",
    "# Isolate the 4th column of the table, the total sleep times\n",
    "time_deltas = np_table[:, 3]\n",
    "# Converts from string to integer (seconds)\n",
    "time_deltas = [convert_time(value) for value in time_deltas]\n",
    "# Saves times as a 1-dimensional numpy array\n",
    "time_deltas = numpy.array(time_deltas, dtype=numpy.timedelta64)\n",
    "\n",
    "#calculate arithmetic mean\n",
    "time_average = numpy.mean(time_deltas)\n",
    "print(time_average)\n",
    "\n",
    "#convert back into hh:mm:ss\n",
    "time_average = datetime.timedelta(seconds=int(time_average))\n",
    "print(time_average)"
   ]
  },
  {
   "cell_type": "markdown",
   "metadata": {},
   "source": [
    "### Part 3:\n",
    "\n",
    "Making things visual?\n",
    "\n",
    "As always, the path to making dates format properly is the path that teaches us the most off-track things."
   ]
  },
  {
   "cell_type": "code",
   "execution_count": 36,
   "metadata": {},
   "outputs": [
    {
     "data": {
      "image/png": "[encoded data removed]",
      "text/plain": [
       "<Figure size 432x288 with 1 Axes>"
      ]
     },
     "metadata": {
      "needs_background": "light"
     },
     "output_type": "display_data"
    }
   ],
   "source": [
    "import matplotlib.pyplot as plt\n",
    "import matplotlib.dates as mdates\n",
    "import matplotlib.ticker as ticker\n",
    "\n",
    "def seconds(s, f):\n",
    "    dt = datetime.timedelta(seconds=int(s)).total_seconds()\n",
    "    s = dt % 60\n",
    "    m = (dt % 3600 - s)//60\n",
    "    h = (dt - m - s)//3600\n",
    "    if m < 10:\n",
    "        m = \"0\" + str(int(m))\n",
    "    else:\n",
    "        m = str(int(m))\n",
    "    return str(int(h)) + \":\" + m\n",
    "\n",
    "converted_time_deltas = [datetime.timedelta(seconds=int(t)).total_seconds() for t in time_deltas]\n",
    "\n",
    "fig, ax = plt.subplots(1, 1)\n",
    "\n",
    "bins = [13500, 17100, 20700, 24300, 27900, 31500, 35100, 38700];\n",
    "\n",
    "ax.hist(converted_time_deltas, bins=bins)\n",
    "\n",
    "# Force the ticks on the histogram to match the bins \n",
    "ax.set_xticks(bins)\n",
    "# Format the labels into dates\n",
    "ax.xaxis.set_major_formatter(ticker.FuncFormatter(seconds))\n",
    "\n",
    "# Have to use plt to set labels\n",
    "plt.xlabel(\"Times\")\n",
    "plt.ylabel(\"Count\")\n",
    "plt.title(\"Frequencies of Sleep Durations\");\n",
    "\n",
    "# Semicolon supresses text output? - > Text(0.5, 1.0, 'Frequencies of Sleep Durations')"
   ]
  },
  {
   "cell_type": "code",
   "execution_count": null,
   "metadata": {},
   "outputs": [],
   "source": []
  },
  {
   "cell_type": "code",
   "execution_count": null,
   "metadata": {},
   "outputs": [],
   "source": []
  }
 ],
 "metadata": {
  "kernelspec": {
   "display_name": "Python 3",
   "language": "python",
   "name": "python3"
  },
  "language_info": {
   "codemirror_mode": {
    "name": "ipython",
    "version": 3
   },
   "file_extension": ".py",
   "mimetype": "text/x-python",
   "name": "python",
   "nbconvert_exporter": "python",
   "pygments_lexer": "ipython3",
   "version": "3.7.6"
  }
 },
 "nbformat": 4,
 "nbformat_minor": 4
}
